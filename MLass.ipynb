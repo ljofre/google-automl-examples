{
 "cells": [
  {
   "cell_type": "code",
   "execution_count": 1,
   "metadata": {},
   "outputs": [
    {
     "data": {
      "text/plain": [
       "{'payload': {'image': {'imageBytes': 'YOUR_IMAGE_BYTE'}}}"
      ]
     },
     "execution_count": 1,
     "metadata": {},
     "output_type": "execute_result"
    }
   ],
   "source": [
    "{\n",
    "  \"payload\": {\n",
    "    \"image\": {\n",
    "      \"imageBytes\": \"YOUR_IMAGE_BYTE\"\n",
    "    },\n",
    "  }\n",
    "}\n",
    "\n",
    "curl -X POST -H \"Content-Type: application/json\" \\\n",
    "  -H \"Authorization: Bearer $(gcloud auth application-default print-access-token)\" \\\n",
    "  https://automl.googleapis.com/v1beta1/projects/poc-latam-210714/locations/us-central1/models/ICN8409657882820403942:predict -d @request.json"
   ]
  },
  {
   "cell_type": "code",
   "execution_count": 5,
   "metadata": {},
   "outputs": [],
   "source": [
    "import sys\n",
    "\n",
    "from google.cloud import automl_v1beta1\n",
    "from google.cloud.automl_v1beta1.proto import service_pb2"
   ]
  },
  {
   "cell_type": "code",
   "execution_count": 2,
   "metadata": {},
   "outputs": [
    {
     "name": "stdout",
     "output_type": "stream",
     "text": [
      "Requirement already up-to-date: google-api-python-client in c:\\users\\ljofreflor\\appdata\\local\\continuum\\anaconda3\\lib\\site-packages (1.7.4)\n",
      "Requirement already satisfied, skipping upgrade: six<2dev,>=1.6.1 in c:\\users\\ljofreflor\\appdata\\local\\continuum\\anaconda3\\lib\\site-packages (from google-api-python-client) (1.11.0)\n",
      "Requirement already satisfied, skipping upgrade: uritemplate<4dev,>=3.0.0 in c:\\users\\ljofreflor\\appdata\\local\\continuum\\anaconda3\\lib\\site-packages (from google-api-python-client) (3.0.0)\n",
      "Requirement already satisfied, skipping upgrade: google-auth-httplib2>=0.0.3 in c:\\users\\ljofreflor\\appdata\\local\\continuum\\anaconda3\\lib\\site-packages (from google-api-python-client) (0.0.3)\n",
      "Requirement already satisfied, skipping upgrade: httplib2<1dev,>=0.9.2 in c:\\users\\ljofreflor\\appdata\\local\\continuum\\anaconda3\\lib\\site-packages (from google-api-python-client) (0.11.3)\n",
      "Requirement already satisfied, skipping upgrade: google-auth>=1.4.1 in c:\\users\\ljofreflor\\appdata\\local\\continuum\\anaconda3\\lib\\site-packages (from google-api-python-client) (1.5.0)\n",
      "Requirement already satisfied, skipping upgrade: pyasn1-modules>=0.2.1 in c:\\users\\ljofreflor\\appdata\\local\\continuum\\anaconda3\\lib\\site-packages (from google-auth>=1.4.1->google-api-python-client) (0.2.2)\n",
      "Requirement already satisfied, skipping upgrade: rsa>=3.1.4 in c:\\users\\ljofreflor\\appdata\\local\\continuum\\anaconda3\\lib\\site-packages (from google-auth>=1.4.1->google-api-python-client) (3.4.2)\n",
      "Requirement already satisfied, skipping upgrade: cachetools>=2.0.0 in c:\\users\\ljofreflor\\appdata\\local\\continuum\\anaconda3\\lib\\site-packages (from google-auth>=1.4.1->google-api-python-client) (2.1.0)\n",
      "Requirement already satisfied, skipping upgrade: pyasn1<0.5.0,>=0.4.1 in c:\\users\\ljofreflor\\appdata\\local\\continuum\\anaconda3\\lib\\site-packages (from pyasn1-modules>=0.2.1->google-auth>=1.4.1->google-api-python-client) (0.4.3)\n"
     ]
    }
   ],
   "source": [
    "!pip install --upgrade google-api-python-client"
   ]
  },
  {
   "cell_type": "code",
   "execution_count": null,
   "metadata": {},
   "outputs": [],
   "source": []
  }
 ],
 "metadata": {
  "kernelspec": {
   "display_name": "Python 3",
   "language": "python",
   "name": "python3"
  },
  "language_info": {
   "codemirror_mode": {
    "name": "ipython",
    "version": 3
   },
   "file_extension": ".py",
   "mimetype": "text/x-python",
   "name": "python",
   "nbconvert_exporter": "python",
   "pygments_lexer": "ipython3",
   "version": "3.6.5"
  }
 },
 "nbformat": 4,
 "nbformat_minor": 2
}
