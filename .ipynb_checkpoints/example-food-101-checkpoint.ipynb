{
 "cells": [
  {
   "cell_type": "markdown",
   "metadata": {},
   "source": [
    "primero descargamos los datos de entrenamiento, haremos un ejemplo con el set de datos food-101"
   ]
  },
  {
   "cell_type": "code",
   "execution_count": 2,
   "metadata": {},
   "outputs": [
    {
     "name": "stderr",
     "output_type": "stream",
     "text": [
      "--2018-08-01 14:29:18--  http://data.vision.ee.ethz.ch/cvl/food-101.tar.gz\n",
      "Resolving data.vision.ee.ethz.ch (data.vision.ee.ethz.ch)... 129.132.52.162\n",
      "Connecting to data.vision.ee.ethz.ch (data.vision.ee.ethz.ch)|129.132.52.162|:80... connected.\n",
      "HTTP request sent, awaiting response... 302 Found\n",
      "Location: https://data.vision.ee.ethz.ch/cvl/food-101.tar.gz [following]\n",
      "--2018-08-01 14:29:19--  https://data.vision.ee.ethz.ch/cvl/food-101.tar.gz\n",
      "Connecting to data.vision.ee.ethz.ch (data.vision.ee.ethz.ch)|129.132.52.162|:443... connected.\n",
      "ERROR: cannot verify data.vision.ee.ethz.ch's certificate, issued by 'CN=QuoVadis Global SSL ICA G2,O=QuoVadis Limited,C=BM':\n",
      "  Unable to locally verify the issuer's authority.\n",
      "To connect to data.vision.ee.ethz.ch insecurely, use `--no-check-certificate'.\n"
     ]
    }
   ],
   "source": [
    "# ahora creamos el archivo con nueva data y subimos la data recientemente descargada\n",
    "import os\n",
    "\n",
    "data_folders = os.listdir(\".\")\n",
    "\n",
    "filenames = [os.listdir(f) for f in data_folders]\n",
    "\n",
    "files_dict = dict(zip(data_folders, filenames))\n",
    "\n",
    "base_gsc_path = \"gs://poc-latam-210714-vcm/food-101/images/\"\n",
    "\n",
    "data_array = []\n",
    "\n",
    "for (dict_key, files_list) in files_dict.items():\n",
    "    for filename in files_list:\n",
    "        if '.jpg' not in filename:\n",
    "            continue\n",
    "        \n",
    "        label = dict_key\n",
    "        data_array.append((base_gsc_path + dict_key + '/' + filename, label))\n",
    "\n",
    "import pandas as pd \n",
    "\n",
    "dataframe = pd.DataFrame(data_array)\n",
    "\n",
    "dataframe.to_csv(\"./food_target.csv\", index=False, header=False)"
   ]
  },
  {
   "cell_type": "code",
   "execution_count": null,
   "metadata": {},
   "outputs": [],
   "source": []
  }
 ],
 "metadata": {
  "kernelspec": {
   "display_name": "Python 3",
   "language": "python",
   "name": "python3"
  },
  "language_info": {
   "codemirror_mode": {
    "name": "ipython",
    "version": 3
   },
   "file_extension": ".py",
   "mimetype": "text/x-python",
   "name": "python",
   "nbconvert_exporter": "python",
   "pygments_lexer": "ipython3",
   "version": "3.6.5"
  }
 },
 "nbformat": 4,
 "nbformat_minor": 2
}
