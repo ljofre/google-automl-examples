{
 "cells": [
  {
   "cell_type": "markdown",
   "metadata": {},
   "source": [
    "primero descargamos los datos de entrenamiento, haremos un ejemplo con el set de datos food-101"
   ]
  },
  {
   "cell_type": "code",
   "execution_count": 1,
   "metadata": {},
   "outputs": [],
   "source": [
    "import os\n",
    "import pandas as pd\n",
    "\n",
    "def update_train_data_from_label(root, base_gsc_path):\n",
    "\n",
    "    # ahora creamos el archivo con nueva data y subimos la data recientemente descargada\n",
    "\n",
    "    data_folders = os.listdir(root)\n",
    "\n",
    "    filenames = [ os.listdir(root + f) for f in data_folders]\n",
    "\n",
    "    files_dict = dict(zip(data_folders, filenames))\n",
    "\n",
    "    data_array = []\n",
    "\n",
    "    for (dict_key, files_list) in files_dict.items():\n",
    "        for filename in files_list:\n",
    "            if '.jpg' not in filename:\n",
    "                continue\n",
    "\n",
    "            label = dict_key\n",
    "            data_array.append((base_gsc_path + dict_key + '/' + filename, label))\n",
    "            \n",
    "    dataframe = pd.DataFrame(data_array)\n",
    "    \n",
    "    return dataframe"
   ]
  },
  {
   "cell_type": "code",
   "execution_count": 2,
   "metadata": {},
   "outputs": [],
   "source": [
    "label = \"tomate_cherry\"\n",
    "output_file = \"food_target.csv\"\n",
    "\n",
    "dataframe = update_train_data_from_label(root = \"./food-101/images/\",\n",
    "                                         base_gsc_path=\"gs://poc-latam-210714-vcm/food-101/images/\"\n",
    "                                        )\n",
    "\n",
    "dataframe.to_csv(output_file, index=False, header=False)"
   ]
  },
  {
   "cell_type": "code",
   "execution_count": 19,
   "metadata": {},
   "outputs": [],
   "source": [
    "# subir solo los archivos de tomate cherry a google cloud"
   ]
  }
 ],
 "metadata": {
  "kernelspec": {
   "display_name": "Python 3",
   "language": "python",
   "name": "python3"
  },
  "language_info": {
   "codemirror_mode": {
    "name": "ipython",
    "version": 3
   },
   "file_extension": ".py",
   "mimetype": "text/x-python",
   "name": "python",
   "nbconvert_exporter": "python",
   "pygments_lexer": "ipython3",
   "version": "3.6.5"
  }
 },
 "nbformat": 4,
 "nbformat_minor": 2
}
